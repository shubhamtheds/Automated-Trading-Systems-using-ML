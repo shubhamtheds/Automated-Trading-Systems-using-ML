{
 "cells": [
  {
   "cell_type": "markdown",
   "metadata": {},
   "source": [
    "# Generalization with OOP: The MLBacktester Class"
   ]
  },
  {
   "cell_type": "markdown",
   "metadata": {},
   "source": [
    "## Using the MLBacktester Class"
   ]
  },
  {
   "cell_type": "code",
   "execution_count": 1,
   "metadata": {
    "scrolled": true
   },
   "outputs": [],
   "source": [
    "import pandas as pd\n",
    "import numpy as np\n",
    "from sklearn.linear_model import LogisticRegression\n",
    "import matplotlib.pyplot as plt\n",
    "plt.style.use(\"seaborn\")"
   ]
  },
  {
   "cell_type": "code",
   "execution_count": 2,
   "metadata": {},
   "outputs": [
    {
     "data": {
      "text/html": [
       "<div>\n",
       "<style scoped>\n",
       "    .dataframe tbody tr th:only-of-type {\n",
       "        vertical-align: middle;\n",
       "    }\n",
       "\n",
       "    .dataframe tbody tr th {\n",
       "        vertical-align: top;\n",
       "    }\n",
       "\n",
       "    .dataframe thead th {\n",
       "        text-align: right;\n",
       "    }\n",
       "</style>\n",
       "<table border=\"1\" class=\"dataframe\">\n",
       "  <thead>\n",
       "    <tr style=\"text-align: right;\">\n",
       "      <th></th>\n",
       "      <th>EURUSD</th>\n",
       "      <th>GBPUSD</th>\n",
       "      <th>EURAUD</th>\n",
       "    </tr>\n",
       "    <tr>\n",
       "      <th>time</th>\n",
       "      <th></th>\n",
       "      <th></th>\n",
       "      <th></th>\n",
       "    </tr>\n",
       "  </thead>\n",
       "  <tbody>\n",
       "    <tr>\n",
       "      <th>2019-01-01 22:00:00+00:00</th>\n",
       "      <td>1.146580</td>\n",
       "      <td>1.274680</td>\n",
       "      <td>1.626230</td>\n",
       "    </tr>\n",
       "    <tr>\n",
       "      <th>2019-01-01 22:05:00+00:00</th>\n",
       "      <td>1.146350</td>\n",
       "      <td>1.274270</td>\n",
       "      <td>1.626170</td>\n",
       "    </tr>\n",
       "    <tr>\n",
       "      <th>2019-01-01 22:10:00+00:00</th>\n",
       "      <td>1.146320</td>\n",
       "      <td>1.274760</td>\n",
       "      <td>1.626290</td>\n",
       "    </tr>\n",
       "    <tr>\n",
       "      <th>2019-01-01 22:15:00+00:00</th>\n",
       "      <td>1.146320</td>\n",
       "      <td>1.274770</td>\n",
       "      <td>1.626290</td>\n",
       "    </tr>\n",
       "    <tr>\n",
       "      <th>2019-01-01 22:20:00+00:00</th>\n",
       "      <td>1.146530</td>\n",
       "      <td>1.274760</td>\n",
       "      <td>1.625620</td>\n",
       "    </tr>\n",
       "    <tr>\n",
       "      <th>...</th>\n",
       "      <td>...</td>\n",
       "      <td>...</td>\n",
       "      <td>...</td>\n",
       "    </tr>\n",
       "    <tr>\n",
       "      <th>2020-08-30 23:35:00+00:00</th>\n",
       "      <td>1.190895</td>\n",
       "      <td>1.335140</td>\n",
       "      <td>1.617190</td>\n",
       "    </tr>\n",
       "    <tr>\n",
       "      <th>2020-08-30 23:40:00+00:00</th>\n",
       "      <td>1.191240</td>\n",
       "      <td>1.335250</td>\n",
       "      <td>1.616890</td>\n",
       "    </tr>\n",
       "    <tr>\n",
       "      <th>2020-08-30 23:45:00+00:00</th>\n",
       "      <td>1.191515</td>\n",
       "      <td>1.335515</td>\n",
       "      <td>1.616870</td>\n",
       "    </tr>\n",
       "    <tr>\n",
       "      <th>2020-08-30 23:50:00+00:00</th>\n",
       "      <td>1.191685</td>\n",
       "      <td>1.335580</td>\n",
       "      <td>1.617060</td>\n",
       "    </tr>\n",
       "    <tr>\n",
       "      <th>2020-08-30 23:55:00+00:00</th>\n",
       "      <td>1.191715</td>\n",
       "      <td>1.335490</td>\n",
       "      <td>1.616945</td>\n",
       "    </tr>\n",
       "  </tbody>\n",
       "</table>\n",
       "<p>124056 rows × 3 columns</p>\n",
       "</div>"
      ],
      "text/plain": [
       "                             EURUSD    GBPUSD    EURAUD\n",
       "time                                                   \n",
       "2019-01-01 22:00:00+00:00  1.146580  1.274680  1.626230\n",
       "2019-01-01 22:05:00+00:00  1.146350  1.274270  1.626170\n",
       "2019-01-01 22:10:00+00:00  1.146320  1.274760  1.626290\n",
       "2019-01-01 22:15:00+00:00  1.146320  1.274770  1.626290\n",
       "2019-01-01 22:20:00+00:00  1.146530  1.274760  1.625620\n",
       "...                             ...       ...       ...\n",
       "2020-08-30 23:35:00+00:00  1.190895  1.335140  1.617190\n",
       "2020-08-30 23:40:00+00:00  1.191240  1.335250  1.616890\n",
       "2020-08-30 23:45:00+00:00  1.191515  1.335515  1.616870\n",
       "2020-08-30 23:50:00+00:00  1.191685  1.335580  1.617060\n",
       "2020-08-30 23:55:00+00:00  1.191715  1.335490  1.616945\n",
       "\n",
       "[124056 rows x 3 columns]"
      ]
     },
     "execution_count": 2,
     "metadata": {},
     "output_type": "execute_result"
    }
   ],
   "source": [
    "df = pd.read_csv(\"five_minute_pairs.csv\", parse_dates = [\"time\"], index_col = \"time\")\n",
    "df"
   ]
  },
  {
   "cell_type": "code",
   "execution_count": 3,
   "metadata": {},
   "outputs": [
    {
     "name": "stdout",
     "output_type": "stream",
     "text": [
      "<class 'pandas.core.frame.DataFrame'>\n",
      "DatetimeIndex: 124056 entries, 2019-01-01 22:00:00+00:00 to 2020-08-30 23:55:00+00:00\n",
      "Data columns (total 3 columns):\n",
      " #   Column  Non-Null Count   Dtype  \n",
      "---  ------  --------------   -----  \n",
      " 0   EURUSD  123350 non-null  float64\n",
      " 1   GBPUSD  123169 non-null  float64\n",
      " 2   EURAUD  123742 non-null  float64\n",
      "dtypes: float64(3)\n",
      "memory usage: 3.8 MB\n"
     ]
    }
   ],
   "source": [
    "df.info()"
   ]
  },
  {
   "cell_type": "code",
   "execution_count": 4,
   "metadata": {},
   "outputs": [],
   "source": [
    "import MLBacktester as MLB"
   ]
  },
  {
   "cell_type": "code",
   "execution_count": 5,
   "metadata": {},
   "outputs": [],
   "source": [
    "# import ml_backtester as MLB"
   ]
  },
  {
   "cell_type": "markdown",
   "metadata": {},
   "source": [
    "### EURUSD"
   ]
  },
  {
   "cell_type": "code",
   "execution_count": 6,
   "metadata": {},
   "outputs": [],
   "source": [
    "symbol = \"GBPUSD=X\""
   ]
  },
  {
   "cell_type": "code",
   "execution_count": 7,
   "metadata": {},
   "outputs": [],
   "source": [
    "ptc = 0.00007"
   ]
  },
  {
   "cell_type": "code",
   "execution_count": 8,
   "metadata": {},
   "outputs": [],
   "source": [
    "# ml = MLB.MLBacktester(symbol, \"2019-01-01\", \"2020-08-30\", ptc)"
   ]
  },
  {
   "cell_type": "code",
   "execution_count": 9,
   "metadata": {},
   "outputs": [
    {
     "name": "stdout",
     "output_type": "stream",
     "text": [
      "[*********************100%***********************]  1 of 1 completed\n"
     ]
    }
   ],
   "source": [
    "ml = MLB.MLBacktester(symbol, \"2020-11-01\", \"2022-08-30\", \"1d\", ptc)"
   ]
  },
  {
   "cell_type": "code",
   "execution_count": 10,
   "metadata": {},
   "outputs": [
    {
     "data": {
      "text/plain": [
       "MLBacktester(symbol = GBPUSD=X, start = 2020-11-01, end = 2022-08-30, tc = 7e-05)"
      ]
     },
     "execution_count": 10,
     "metadata": {},
     "output_type": "execute_result"
    }
   ],
   "source": [
    "ml"
   ]
  },
  {
   "cell_type": "code",
   "execution_count": 11,
   "metadata": {},
   "outputs": [
    {
     "data": {
      "text/html": [
       "<div>\n",
       "<style scoped>\n",
       "    .dataframe tbody tr th:only-of-type {\n",
       "        vertical-align: middle;\n",
       "    }\n",
       "\n",
       "    .dataframe tbody tr th {\n",
       "        vertical-align: top;\n",
       "    }\n",
       "\n",
       "    .dataframe thead th {\n",
       "        text-align: right;\n",
       "    }\n",
       "</style>\n",
       "<table border=\"1\" class=\"dataframe\">\n",
       "  <thead>\n",
       "    <tr style=\"text-align: right;\">\n",
       "      <th></th>\n",
       "      <th>price</th>\n",
       "      <th>returns</th>\n",
       "    </tr>\n",
       "    <tr>\n",
       "      <th>Date</th>\n",
       "      <th></th>\n",
       "      <th></th>\n",
       "    </tr>\n",
       "  </thead>\n",
       "  <tbody>\n",
       "    <tr>\n",
       "      <th>2020-11-02 00:00:00+00:00</th>\n",
       "      <td>1.292674</td>\n",
       "      <td>NaN</td>\n",
       "    </tr>\n",
       "    <tr>\n",
       "      <th>2020-11-03 00:00:00+00:00</th>\n",
       "      <td>1.292390</td>\n",
       "      <td>-0.000220</td>\n",
       "    </tr>\n",
       "    <tr>\n",
       "      <th>2020-11-04 00:00:00+00:00</th>\n",
       "      <td>1.312164</td>\n",
       "      <td>0.015184</td>\n",
       "    </tr>\n",
       "    <tr>\n",
       "      <th>2020-11-05 00:00:00+00:00</th>\n",
       "      <td>1.296680</td>\n",
       "      <td>-0.011870</td>\n",
       "    </tr>\n",
       "    <tr>\n",
       "      <th>2020-11-06 00:00:00+00:00</th>\n",
       "      <td>1.313940</td>\n",
       "      <td>0.013222</td>\n",
       "    </tr>\n",
       "    <tr>\n",
       "      <th>...</th>\n",
       "      <td>...</td>\n",
       "      <td>...</td>\n",
       "    </tr>\n",
       "    <tr>\n",
       "      <th>2022-08-23 00:00:00+01:00</th>\n",
       "      <td>1.176651</td>\n",
       "      <td>-0.004375</td>\n",
       "    </tr>\n",
       "    <tr>\n",
       "      <th>2022-08-24 00:00:00+01:00</th>\n",
       "      <td>1.183278</td>\n",
       "      <td>0.005617</td>\n",
       "    </tr>\n",
       "    <tr>\n",
       "      <th>2022-08-25 00:00:00+01:00</th>\n",
       "      <td>1.179176</td>\n",
       "      <td>-0.003473</td>\n",
       "    </tr>\n",
       "    <tr>\n",
       "      <th>2022-08-26 00:00:00+01:00</th>\n",
       "      <td>1.182401</td>\n",
       "      <td>0.002731</td>\n",
       "    </tr>\n",
       "    <tr>\n",
       "      <th>2022-08-29 00:00:00+01:00</th>\n",
       "      <td>1.169454</td>\n",
       "      <td>-0.011010</td>\n",
       "    </tr>\n",
       "  </tbody>\n",
       "</table>\n",
       "<p>476 rows × 2 columns</p>\n",
       "</div>"
      ],
      "text/plain": [
       "                              price   returns\n",
       "Date                                         \n",
       "2020-11-02 00:00:00+00:00  1.292674       NaN\n",
       "2020-11-03 00:00:00+00:00  1.292390 -0.000220\n",
       "2020-11-04 00:00:00+00:00  1.312164  0.015184\n",
       "2020-11-05 00:00:00+00:00  1.296680 -0.011870\n",
       "2020-11-06 00:00:00+00:00  1.313940  0.013222\n",
       "...                             ...       ...\n",
       "2022-08-23 00:00:00+01:00  1.176651 -0.004375\n",
       "2022-08-24 00:00:00+01:00  1.183278  0.005617\n",
       "2022-08-25 00:00:00+01:00  1.179176 -0.003473\n",
       "2022-08-26 00:00:00+01:00  1.182401  0.002731\n",
       "2022-08-29 00:00:00+01:00  1.169454 -0.011010\n",
       "\n",
       "[476 rows x 2 columns]"
      ]
     },
     "execution_count": 11,
     "metadata": {},
     "output_type": "execute_result"
    }
   ],
   "source": [
    "ml.data"
   ]
  },
  {
   "cell_type": "code",
   "execution_count": 12,
   "metadata": {},
   "outputs": [
    {
     "data": {
      "text/plain": [
       "(1.056452, 0.193501)"
      ]
     },
     "execution_count": 12,
     "metadata": {},
     "output_type": "execute_result"
    }
   ],
   "source": [
    "ml.test_strategy(train_ratio = 0.7, lags = 3)"
   ]
  },
  {
   "cell_type": "code",
   "execution_count": 13,
   "metadata": {},
   "outputs": [
    {
     "data": {
      "image/png": "[encoded data removed]",
      "text/plain": [
       "<Figure size 1200x800 with 1 Axes>"
      ]
     },
     "metadata": {},
     "output_type": "display_data"
    }
   ],
   "source": [
    "ml.plot_results()"
   ]
  },
  {
   "cell_type": "code",
   "execution_count": 14,
   "metadata": {},
   "outputs": [
    {
     "data": {
      "text/html": [
       "<div>\n",
       "<style scoped>\n",
       "    .dataframe tbody tr th:only-of-type {\n",
       "        vertical-align: middle;\n",
       "    }\n",
       "\n",
       "    .dataframe tbody tr th {\n",
       "        vertical-align: top;\n",
       "    }\n",
       "\n",
       "    .dataframe thead th {\n",
       "        text-align: right;\n",
       "    }\n",
       "</style>\n",
       "<table border=\"1\" class=\"dataframe\">\n",
       "  <thead>\n",
       "    <tr style=\"text-align: right;\">\n",
       "      <th></th>\n",
       "      <th>price</th>\n",
       "      <th>returns</th>\n",
       "      <th>lag1</th>\n",
       "      <th>lag2</th>\n",
       "      <th>lag3</th>\n",
       "      <th>pred</th>\n",
       "      <th>strategy</th>\n",
       "      <th>trades</th>\n",
       "      <th>creturns</th>\n",
       "      <th>cstrategy</th>\n",
       "    </tr>\n",
       "    <tr>\n",
       "      <th>Date</th>\n",
       "      <th></th>\n",
       "      <th></th>\n",
       "      <th></th>\n",
       "      <th></th>\n",
       "      <th></th>\n",
       "      <th></th>\n",
       "      <th></th>\n",
       "      <th></th>\n",
       "      <th></th>\n",
       "      <th></th>\n",
       "    </tr>\n",
       "  </thead>\n",
       "  <tbody>\n",
       "    <tr>\n",
       "      <th>2022-02-14 00:00:00+00:00</th>\n",
       "      <td>1.356963</td>\n",
       "      <td>0.001315</td>\n",
       "      <td>0.001368</td>\n",
       "      <td>-0.001056</td>\n",
       "      <td>0.000721</td>\n",
       "      <td>-1.0</td>\n",
       "      <td>-0.001315</td>\n",
       "      <td>0.0</td>\n",
       "      <td>1.001316</td>\n",
       "      <td>0.998685</td>\n",
       "    </tr>\n",
       "    <tr>\n",
       "      <th>2022-02-15 00:00:00+00:00</th>\n",
       "      <td>1.353290</td>\n",
       "      <td>-0.002710</td>\n",
       "      <td>0.001315</td>\n",
       "      <td>0.001368</td>\n",
       "      <td>-0.001056</td>\n",
       "      <td>1.0</td>\n",
       "      <td>-0.002850</td>\n",
       "      <td>2.0</td>\n",
       "      <td>0.998606</td>\n",
       "      <td>0.995843</td>\n",
       "    </tr>\n",
       "    <tr>\n",
       "      <th>2022-02-16 00:00:00+00:00</th>\n",
       "      <td>1.354115</td>\n",
       "      <td>0.000609</td>\n",
       "      <td>-0.002710</td>\n",
       "      <td>0.001315</td>\n",
       "      <td>0.001368</td>\n",
       "      <td>-1.0</td>\n",
       "      <td>-0.000749</td>\n",
       "      <td>2.0</td>\n",
       "      <td>0.999215</td>\n",
       "      <td>0.995097</td>\n",
       "    </tr>\n",
       "    <tr>\n",
       "      <th>2022-02-17 00:00:00+00:00</th>\n",
       "      <td>1.358493</td>\n",
       "      <td>0.003228</td>\n",
       "      <td>0.000609</td>\n",
       "      <td>-0.002710</td>\n",
       "      <td>0.001315</td>\n",
       "      <td>-1.0</td>\n",
       "      <td>-0.003228</td>\n",
       "      <td>0.0</td>\n",
       "      <td>1.002445</td>\n",
       "      <td>0.991890</td>\n",
       "    </tr>\n",
       "    <tr>\n",
       "      <th>2022-02-18 00:00:00+00:00</th>\n",
       "      <td>1.361878</td>\n",
       "      <td>0.002489</td>\n",
       "      <td>0.003228</td>\n",
       "      <td>0.000609</td>\n",
       "      <td>-0.002710</td>\n",
       "      <td>1.0</td>\n",
       "      <td>0.002349</td>\n",
       "      <td>2.0</td>\n",
       "      <td>1.004944</td>\n",
       "      <td>0.994223</td>\n",
       "    </tr>\n",
       "    <tr>\n",
       "      <th>...</th>\n",
       "      <td>...</td>\n",
       "      <td>...</td>\n",
       "      <td>...</td>\n",
       "      <td>...</td>\n",
       "      <td>...</td>\n",
       "      <td>...</td>\n",
       "      <td>...</td>\n",
       "      <td>...</td>\n",
       "      <td>...</td>\n",
       "      <td>...</td>\n",
       "    </tr>\n",
       "    <tr>\n",
       "      <th>2022-08-23 00:00:00+01:00</th>\n",
       "      <td>1.176651</td>\n",
       "      <td>-0.004375</td>\n",
       "      <td>-0.009655</td>\n",
       "      <td>-0.009375</td>\n",
       "      <td>-0.004394</td>\n",
       "      <td>1.0</td>\n",
       "      <td>-0.004515</td>\n",
       "      <td>2.0</td>\n",
       "      <td>0.868262</td>\n",
       "      <td>1.039949</td>\n",
       "    </tr>\n",
       "    <tr>\n",
       "      <th>2022-08-24 00:00:00+01:00</th>\n",
       "      <td>1.183278</td>\n",
       "      <td>0.005617</td>\n",
       "      <td>-0.004375</td>\n",
       "      <td>-0.009655</td>\n",
       "      <td>-0.009375</td>\n",
       "      <td>1.0</td>\n",
       "      <td>0.005617</td>\n",
       "      <td>0.0</td>\n",
       "      <td>0.873153</td>\n",
       "      <td>1.045806</td>\n",
       "    </tr>\n",
       "    <tr>\n",
       "      <th>2022-08-25 00:00:00+01:00</th>\n",
       "      <td>1.179176</td>\n",
       "      <td>-0.003473</td>\n",
       "      <td>0.005617</td>\n",
       "      <td>-0.004375</td>\n",
       "      <td>-0.009655</td>\n",
       "      <td>1.0</td>\n",
       "      <td>-0.003473</td>\n",
       "      <td>0.0</td>\n",
       "      <td>0.870126</td>\n",
       "      <td>1.042181</td>\n",
       "    </tr>\n",
       "    <tr>\n",
       "      <th>2022-08-26 00:00:00+01:00</th>\n",
       "      <td>1.182401</td>\n",
       "      <td>0.002731</td>\n",
       "      <td>-0.003473</td>\n",
       "      <td>0.005617</td>\n",
       "      <td>-0.004375</td>\n",
       "      <td>1.0</td>\n",
       "      <td>0.002731</td>\n",
       "      <td>0.0</td>\n",
       "      <td>0.872505</td>\n",
       "      <td>1.045031</td>\n",
       "    </tr>\n",
       "    <tr>\n",
       "      <th>2022-08-29 00:00:00+01:00</th>\n",
       "      <td>1.169454</td>\n",
       "      <td>-0.011010</td>\n",
       "      <td>0.002731</td>\n",
       "      <td>-0.003473</td>\n",
       "      <td>0.005617</td>\n",
       "      <td>-1.0</td>\n",
       "      <td>0.010870</td>\n",
       "      <td>2.0</td>\n",
       "      <td>0.862952</td>\n",
       "      <td>1.056452</td>\n",
       "    </tr>\n",
       "  </tbody>\n",
       "</table>\n",
       "<p>141 rows × 10 columns</p>\n",
       "</div>"
      ],
      "text/plain": [
       "                              price   returns      lag1      lag2      lag3  \\\n",
       "Date                                                                          \n",
       "2022-02-14 00:00:00+00:00  1.356963  0.001315  0.001368 -0.001056  0.000721   \n",
       "2022-02-15 00:00:00+00:00  1.353290 -0.002710  0.001315  0.001368 -0.001056   \n",
       "2022-02-16 00:00:00+00:00  1.354115  0.000609 -0.002710  0.001315  0.001368   \n",
       "2022-02-17 00:00:00+00:00  1.358493  0.003228  0.000609 -0.002710  0.001315   \n",
       "2022-02-18 00:00:00+00:00  1.361878  0.002489  0.003228  0.000609 -0.002710   \n",
       "...                             ...       ...       ...       ...       ...   \n",
       "2022-08-23 00:00:00+01:00  1.176651 -0.004375 -0.009655 -0.009375 -0.004394   \n",
       "2022-08-24 00:00:00+01:00  1.183278  0.005617 -0.004375 -0.009655 -0.009375   \n",
       "2022-08-25 00:00:00+01:00  1.179176 -0.003473  0.005617 -0.004375 -0.009655   \n",
       "2022-08-26 00:00:00+01:00  1.182401  0.002731 -0.003473  0.005617 -0.004375   \n",
       "2022-08-29 00:00:00+01:00  1.169454 -0.011010  0.002731 -0.003473  0.005617   \n",
       "\n",
       "                           pred  strategy  trades  creturns  cstrategy  \n",
       "Date                                                                    \n",
       "2022-02-14 00:00:00+00:00  -1.0 -0.001315     0.0  1.001316   0.998685  \n",
       "2022-02-15 00:00:00+00:00   1.0 -0.002850     2.0  0.998606   0.995843  \n",
       "2022-02-16 00:00:00+00:00  -1.0 -0.000749     2.0  0.999215   0.995097  \n",
       "2022-02-17 00:00:00+00:00  -1.0 -0.003228     0.0  1.002445   0.991890  \n",
       "2022-02-18 00:00:00+00:00   1.0  0.002349     2.0  1.004944   0.994223  \n",
       "...                         ...       ...     ...       ...        ...  \n",
       "2022-08-23 00:00:00+01:00   1.0 -0.004515     2.0  0.868262   1.039949  \n",
       "2022-08-24 00:00:00+01:00   1.0  0.005617     0.0  0.873153   1.045806  \n",
       "2022-08-25 00:00:00+01:00   1.0 -0.003473     0.0  0.870126   1.042181  \n",
       "2022-08-26 00:00:00+01:00   1.0  0.002731     0.0  0.872505   1.045031  \n",
       "2022-08-29 00:00:00+01:00  -1.0  0.010870     2.0  0.862952   1.056452  \n",
       "\n",
       "[141 rows x 10 columns]"
      ]
     },
     "execution_count": 14,
     "metadata": {},
     "output_type": "execute_result"
    }
   ],
   "source": [
    "ml.results"
   ]
  },
  {
   "cell_type": "markdown",
   "metadata": {},
   "source": [
    "__The optimal Number of Lags__"
   ]
  },
  {
   "cell_type": "code",
   "execution_count": 15,
   "metadata": {
    "scrolled": false
   },
   "outputs": [
    {
     "name": "stdout",
     "output_type": "stream",
     "text": [
      "1 (1.021476, 0.158255)\n",
      "2 (0.990632, 0.126499)\n",
      "3 (1.056452, 0.193501)\n",
      "4 (0.996912, 0.135095)\n",
      "5 (0.972175, 0.108019)\n",
      "6 (0.959868, 0.096238)\n",
      "7 (0.985755, 0.124908)\n",
      "8 (0.999394, 0.140687)\n",
      "9 (0.955384, 0.095075)\n",
      "10 (1.002885, 0.14274)\n",
      "11 (0.976673, 0.116107)\n",
      "12 (0.987549, 0.124211)\n",
      "13 (0.967426, 0.092955)\n",
      "14 (0.941113, 0.066642)\n",
      "15 (0.951852, 0.080609)\n",
      "16 (0.958112, 0.081139)\n",
      "17 (0.940993, 0.068066)\n",
      "18 (0.965541, 0.089608)\n",
      "19 (0.93947, 0.054357)\n",
      "20 (0.921591, 0.029715)\n"
     ]
    }
   ],
   "source": [
    "for lags in range(1, 21):\n",
    "    print(lags, ml.test_strategy(train_ratio = 0.7, lags = lags))"
   ]
  },
  {
   "cell_type": "code",
   "execution_count": 16,
   "metadata": {},
   "outputs": [
    {
     "data": {
      "text/plain": [
       "2.0    69\n",
       "0.0    55\n",
       "Name: trades, dtype: int64"
      ]
     },
     "execution_count": 16,
     "metadata": {},
     "output_type": "execute_result"
    }
   ],
   "source": [
    "ml.results.trades.value_counts()"
   ]
  },
  {
   "cell_type": "markdown",
   "metadata": {},
   "source": [
    "### EURAUD"
   ]
  },
  {
   "cell_type": "code",
   "execution_count": 17,
   "metadata": {},
   "outputs": [],
   "source": [
    "symbol = \"EURAUD=X\""
   ]
  },
  {
   "cell_type": "code",
   "execution_count": 18,
   "metadata": {},
   "outputs": [
    {
     "name": "stdout",
     "output_type": "stream",
     "text": [
      "[*********************100%***********************]  1 of 1 completed\n"
     ]
    }
   ],
   "source": [
    "ml = MLB.MLBacktester(symbol, \"2021-08-01\", \"2022-09-17\", \"1d\", 0.00007)"
   ]
  },
  {
   "cell_type": "code",
   "execution_count": 19,
   "metadata": {},
   "outputs": [
    {
     "data": {
      "text/plain": [
       "(0.933279, -0.06429)"
      ]
     },
     "execution_count": 19,
     "metadata": {},
     "output_type": "execute_result"
    }
   ],
   "source": [
    "ml.test_strategy(train_ratio = 0.7, lags = 1)"
   ]
  },
  {
   "cell_type": "code",
   "execution_count": 20,
   "metadata": {},
   "outputs": [
    {
     "data": {
      "image/png": "[encoded data removed]",
      "text/plain": [
       "<Figure size 1200x800 with 1 Axes>"
      ]
     },
     "metadata": {},
     "output_type": "display_data"
    }
   ],
   "source": [
    "ml.plot_results()"
   ]
  },
  {
   "cell_type": "markdown",
   "metadata": {},
   "source": [
    "__The optimal Number of Lags__"
   ]
  },
  {
   "cell_type": "code",
   "execution_count": 21,
   "metadata": {
    "scrolled": false
   },
   "outputs": [
    {
     "name": "stdout",
     "output_type": "stream",
     "text": [
      "1 (0.933279, -0.06429)\n",
      "2 (0.920396, -0.077313)\n",
      "3 (0.948885, -0.046716)\n",
      "4 (0.944044, -0.048467)\n",
      "5 (0.921326, -0.072902)\n",
      "6 (0.924209, -0.073887)\n",
      "7 (0.94637, -0.044903)\n",
      "8 (0.980159, -0.008286)\n",
      "9 (0.887664, -0.103207)\n",
      "10 (0.929825, -0.058084)\n",
      "11 (0.950321, -0.046302)\n",
      "12 (0.936477, -0.061152)\n",
      "13 (0.90896, -0.090451)\n",
      "14 (0.891909, -0.114066)\n",
      "15 (0.912827, -0.097024)\n",
      "16 (0.917479, -0.085853)\n",
      "17 (0.955036, -0.049247)\n",
      "18 (0.950955, -0.057288)\n",
      "19 (0.892018, -0.109524)\n",
      "20 (0.891784, -0.106658)\n"
     ]
    }
   ],
   "source": [
    "for lags in range(1, 21):\n",
    "    print(lags, ml.test_strategy(train_ratio = 0.7, lags = lags))"
   ]
  },
  {
   "cell_type": "code",
   "execution_count": 22,
   "metadata": {},
   "outputs": [
    {
     "data": {
      "text/html": [
       "<div>\n",
       "<style scoped>\n",
       "    .dataframe tbody tr th:only-of-type {\n",
       "        vertical-align: middle;\n",
       "    }\n",
       "\n",
       "    .dataframe tbody tr th {\n",
       "        vertical-align: top;\n",
       "    }\n",
       "\n",
       "    .dataframe thead th {\n",
       "        text-align: right;\n",
       "    }\n",
       "</style>\n",
       "<table border=\"1\" class=\"dataframe\">\n",
       "  <thead>\n",
       "    <tr style=\"text-align: right;\">\n",
       "      <th></th>\n",
       "      <th>price</th>\n",
       "      <th>returns</th>\n",
       "      <th>lag1</th>\n",
       "      <th>lag2</th>\n",
       "      <th>lag3</th>\n",
       "      <th>lag4</th>\n",
       "      <th>lag5</th>\n",
       "      <th>lag6</th>\n",
       "      <th>lag7</th>\n",
       "      <th>lag8</th>\n",
       "      <th>...</th>\n",
       "      <th>lag16</th>\n",
       "      <th>lag17</th>\n",
       "      <th>lag18</th>\n",
       "      <th>lag19</th>\n",
       "      <th>lag20</th>\n",
       "      <th>pred</th>\n",
       "      <th>strategy</th>\n",
       "      <th>trades</th>\n",
       "      <th>creturns</th>\n",
       "      <th>cstrategy</th>\n",
       "    </tr>\n",
       "    <tr>\n",
       "      <th>Date</th>\n",
       "      <th></th>\n",
       "      <th></th>\n",
       "      <th></th>\n",
       "      <th></th>\n",
       "      <th></th>\n",
       "      <th></th>\n",
       "      <th></th>\n",
       "      <th></th>\n",
       "      <th></th>\n",
       "      <th></th>\n",
       "      <th></th>\n",
       "      <th></th>\n",
       "      <th></th>\n",
       "      <th></th>\n",
       "      <th></th>\n",
       "      <th></th>\n",
       "      <th></th>\n",
       "      <th></th>\n",
       "      <th></th>\n",
       "      <th></th>\n",
       "      <th></th>\n",
       "    </tr>\n",
       "  </thead>\n",
       "  <tbody>\n",
       "    <tr>\n",
       "      <th>2022-06-13 00:00:00+01:00</th>\n",
       "      <td>1.49448</td>\n",
       "      <td>-0.000950</td>\n",
       "      <td>0.003100</td>\n",
       "      <td>0.006668</td>\n",
       "      <td>-0.003935</td>\n",
       "      <td>-0.000948</td>\n",
       "      <td>0.006477</td>\n",
       "      <td>-0.003847</td>\n",
       "      <td>-0.006546</td>\n",
       "      <td>-0.001785</td>\n",
       "      <td>...</td>\n",
       "      <td>-0.001729</td>\n",
       "      <td>0.003108</td>\n",
       "      <td>0.002115</td>\n",
       "      <td>-0.000140</td>\n",
       "      <td>-0.008738</td>\n",
       "      <td>-1.0</td>\n",
       "      <td>0.000950</td>\n",
       "      <td>0.0</td>\n",
       "      <td>0.999051</td>\n",
       "      <td>1.000950</td>\n",
       "    </tr>\n",
       "    <tr>\n",
       "      <th>2022-06-14 00:00:00+01:00</th>\n",
       "      <td>1.50037</td>\n",
       "      <td>0.003933</td>\n",
       "      <td>-0.000950</td>\n",
       "      <td>0.003100</td>\n",
       "      <td>0.006668</td>\n",
       "      <td>-0.003935</td>\n",
       "      <td>-0.000948</td>\n",
       "      <td>0.006477</td>\n",
       "      <td>-0.003847</td>\n",
       "      <td>-0.006546</td>\n",
       "      <td>...</td>\n",
       "      <td>-0.003882</td>\n",
       "      <td>-0.001729</td>\n",
       "      <td>0.003108</td>\n",
       "      <td>0.002115</td>\n",
       "      <td>-0.000140</td>\n",
       "      <td>-1.0</td>\n",
       "      <td>-0.003933</td>\n",
       "      <td>0.0</td>\n",
       "      <td>1.002988</td>\n",
       "      <td>0.997021</td>\n",
       "    </tr>\n",
       "    <tr>\n",
       "      <th>2022-06-15 00:00:00+01:00</th>\n",
       "      <td>1.51538</td>\n",
       "      <td>0.009954</td>\n",
       "      <td>0.003933</td>\n",
       "      <td>-0.000950</td>\n",
       "      <td>0.003100</td>\n",
       "      <td>0.006668</td>\n",
       "      <td>-0.003935</td>\n",
       "      <td>-0.000948</td>\n",
       "      <td>0.006477</td>\n",
       "      <td>-0.003847</td>\n",
       "      <td>...</td>\n",
       "      <td>0.006859</td>\n",
       "      <td>-0.003882</td>\n",
       "      <td>-0.001729</td>\n",
       "      <td>0.003108</td>\n",
       "      <td>0.002115</td>\n",
       "      <td>-1.0</td>\n",
       "      <td>-0.009954</td>\n",
       "      <td>0.0</td>\n",
       "      <td>1.013022</td>\n",
       "      <td>0.987145</td>\n",
       "    </tr>\n",
       "    <tr>\n",
       "      <th>2022-06-16 00:00:00+01:00</th>\n",
       "      <td>1.49009</td>\n",
       "      <td>-0.016830</td>\n",
       "      <td>0.009954</td>\n",
       "      <td>0.003933</td>\n",
       "      <td>-0.000950</td>\n",
       "      <td>0.003100</td>\n",
       "      <td>0.006668</td>\n",
       "      <td>-0.003935</td>\n",
       "      <td>-0.000948</td>\n",
       "      <td>0.006477</td>\n",
       "      <td>...</td>\n",
       "      <td>0.002856</td>\n",
       "      <td>0.006859</td>\n",
       "      <td>-0.003882</td>\n",
       "      <td>-0.001729</td>\n",
       "      <td>0.003108</td>\n",
       "      <td>1.0</td>\n",
       "      <td>-0.016970</td>\n",
       "      <td>2.0</td>\n",
       "      <td>0.996116</td>\n",
       "      <td>0.970535</td>\n",
       "    </tr>\n",
       "    <tr>\n",
       "      <th>2022-06-17 00:00:00+01:00</th>\n",
       "      <td>1.49797</td>\n",
       "      <td>0.005274</td>\n",
       "      <td>-0.016830</td>\n",
       "      <td>0.009954</td>\n",
       "      <td>0.003933</td>\n",
       "      <td>-0.000950</td>\n",
       "      <td>0.003100</td>\n",
       "      <td>0.006668</td>\n",
       "      <td>-0.003935</td>\n",
       "      <td>-0.000948</td>\n",
       "      <td>...</td>\n",
       "      <td>-0.002452</td>\n",
       "      <td>0.002856</td>\n",
       "      <td>0.006859</td>\n",
       "      <td>-0.003882</td>\n",
       "      <td>-0.001729</td>\n",
       "      <td>-1.0</td>\n",
       "      <td>-0.005414</td>\n",
       "      <td>2.0</td>\n",
       "      <td>1.001384</td>\n",
       "      <td>0.965294</td>\n",
       "    </tr>\n",
       "    <tr>\n",
       "      <th>...</th>\n",
       "      <td>...</td>\n",
       "      <td>...</td>\n",
       "      <td>...</td>\n",
       "      <td>...</td>\n",
       "      <td>...</td>\n",
       "      <td>...</td>\n",
       "      <td>...</td>\n",
       "      <td>...</td>\n",
       "      <td>...</td>\n",
       "      <td>...</td>\n",
       "      <td>...</td>\n",
       "      <td>...</td>\n",
       "      <td>...</td>\n",
       "      <td>...</td>\n",
       "      <td>...</td>\n",
       "      <td>...</td>\n",
       "      <td>...</td>\n",
       "      <td>...</td>\n",
       "      <td>...</td>\n",
       "      <td>...</td>\n",
       "      <td>...</td>\n",
       "    </tr>\n",
       "    <tr>\n",
       "      <th>2022-09-12 00:00:00+01:00</th>\n",
       "      <td>1.47096</td>\n",
       "      <td>-0.005721</td>\n",
       "      <td>-0.000743</td>\n",
       "      <td>0.006709</td>\n",
       "      <td>0.006652</td>\n",
       "      <td>0.001123</td>\n",
       "      <td>-0.003632</td>\n",
       "      <td>-0.003599</td>\n",
       "      <td>0.005465</td>\n",
       "      <td>0.008602</td>\n",
       "      <td>...</td>\n",
       "      <td>-0.005833</td>\n",
       "      <td>0.013430</td>\n",
       "      <td>0.000918</td>\n",
       "      <td>0.004632</td>\n",
       "      <td>-0.008459</td>\n",
       "      <td>-1.0</td>\n",
       "      <td>0.005721</td>\n",
       "      <td>0.0</td>\n",
       "      <td>0.983328</td>\n",
       "      <td>0.907707</td>\n",
       "    </tr>\n",
       "    <tr>\n",
       "      <th>2022-09-13 00:00:00+01:00</th>\n",
       "      <td>1.46931</td>\n",
       "      <td>-0.001122</td>\n",
       "      <td>-0.005721</td>\n",
       "      <td>-0.000743</td>\n",
       "      <td>0.006709</td>\n",
       "      <td>0.006652</td>\n",
       "      <td>0.001123</td>\n",
       "      <td>-0.003632</td>\n",
       "      <td>-0.003599</td>\n",
       "      <td>0.005465</td>\n",
       "      <td>...</td>\n",
       "      <td>-0.000555</td>\n",
       "      <td>-0.005833</td>\n",
       "      <td>0.013430</td>\n",
       "      <td>0.000918</td>\n",
       "      <td>0.004632</td>\n",
       "      <td>-1.0</td>\n",
       "      <td>0.001122</td>\n",
       "      <td>0.0</td>\n",
       "      <td>0.982225</td>\n",
       "      <td>0.908726</td>\n",
       "    </tr>\n",
       "    <tr>\n",
       "      <th>2022-09-14 00:00:00+01:00</th>\n",
       "      <td>1.48005</td>\n",
       "      <td>0.007283</td>\n",
       "      <td>-0.001122</td>\n",
       "      <td>-0.005721</td>\n",
       "      <td>-0.000743</td>\n",
       "      <td>0.006709</td>\n",
       "      <td>0.006652</td>\n",
       "      <td>0.001123</td>\n",
       "      <td>-0.003632</td>\n",
       "      <td>-0.003599</td>\n",
       "      <td>...</td>\n",
       "      <td>-0.009780</td>\n",
       "      <td>-0.000555</td>\n",
       "      <td>-0.005833</td>\n",
       "      <td>0.013430</td>\n",
       "      <td>0.000918</td>\n",
       "      <td>-1.0</td>\n",
       "      <td>-0.007283</td>\n",
       "      <td>0.0</td>\n",
       "      <td>0.989404</td>\n",
       "      <td>0.902132</td>\n",
       "    </tr>\n",
       "    <tr>\n",
       "      <th>2022-09-15 00:00:00+01:00</th>\n",
       "      <td>1.47845</td>\n",
       "      <td>-0.001082</td>\n",
       "      <td>0.007283</td>\n",
       "      <td>-0.001122</td>\n",
       "      <td>-0.005721</td>\n",
       "      <td>-0.000743</td>\n",
       "      <td>0.006709</td>\n",
       "      <td>0.006652</td>\n",
       "      <td>0.001123</td>\n",
       "      <td>-0.003632</td>\n",
       "      <td>...</td>\n",
       "      <td>-0.003452</td>\n",
       "      <td>-0.009780</td>\n",
       "      <td>-0.000555</td>\n",
       "      <td>-0.005833</td>\n",
       "      <td>0.013430</td>\n",
       "      <td>1.0</td>\n",
       "      <td>-0.001222</td>\n",
       "      <td>2.0</td>\n",
       "      <td>0.988335</td>\n",
       "      <td>0.901031</td>\n",
       "    </tr>\n",
       "    <tr>\n",
       "      <th>2022-09-16 00:00:00+01:00</th>\n",
       "      <td>1.49357</td>\n",
       "      <td>0.010175</td>\n",
       "      <td>-0.001082</td>\n",
       "      <td>0.007283</td>\n",
       "      <td>-0.001122</td>\n",
       "      <td>-0.005721</td>\n",
       "      <td>-0.000743</td>\n",
       "      <td>0.006709</td>\n",
       "      <td>0.006652</td>\n",
       "      <td>0.001123</td>\n",
       "      <td>...</td>\n",
       "      <td>0.002303</td>\n",
       "      <td>-0.003452</td>\n",
       "      <td>-0.009780</td>\n",
       "      <td>-0.000555</td>\n",
       "      <td>-0.005833</td>\n",
       "      <td>-1.0</td>\n",
       "      <td>-0.010315</td>\n",
       "      <td>2.0</td>\n",
       "      <td>0.998442</td>\n",
       "      <td>0.891784</td>\n",
       "    </tr>\n",
       "  </tbody>\n",
       "</table>\n",
       "<p>70 rows × 27 columns</p>\n",
       "</div>"
      ],
      "text/plain": [
       "                             price   returns      lag1      lag2      lag3  \\\n",
       "Date                                                                         \n",
       "2022-06-13 00:00:00+01:00  1.49448 -0.000950  0.003100  0.006668 -0.003935   \n",
       "2022-06-14 00:00:00+01:00  1.50037  0.003933 -0.000950  0.003100  0.006668   \n",
       "2022-06-15 00:00:00+01:00  1.51538  0.009954  0.003933 -0.000950  0.003100   \n",
       "2022-06-16 00:00:00+01:00  1.49009 -0.016830  0.009954  0.003933 -0.000950   \n",
       "2022-06-17 00:00:00+01:00  1.49797  0.005274 -0.016830  0.009954  0.003933   \n",
       "...                            ...       ...       ...       ...       ...   \n",
       "2022-09-12 00:00:00+01:00  1.47096 -0.005721 -0.000743  0.006709  0.006652   \n",
       "2022-09-13 00:00:00+01:00  1.46931 -0.001122 -0.005721 -0.000743  0.006709   \n",
       "2022-09-14 00:00:00+01:00  1.48005  0.007283 -0.001122 -0.005721 -0.000743   \n",
       "2022-09-15 00:00:00+01:00  1.47845 -0.001082  0.007283 -0.001122 -0.005721   \n",
       "2022-09-16 00:00:00+01:00  1.49357  0.010175 -0.001082  0.007283 -0.001122   \n",
       "\n",
       "                               lag4      lag5      lag6      lag7      lag8  \\\n",
       "Date                                                                          \n",
       "2022-06-13 00:00:00+01:00 -0.000948  0.006477 -0.003847 -0.006546 -0.001785   \n",
       "2022-06-14 00:00:00+01:00 -0.003935 -0.000948  0.006477 -0.003847 -0.006546   \n",
       "2022-06-15 00:00:00+01:00  0.006668 -0.003935 -0.000948  0.006477 -0.003847   \n",
       "2022-06-16 00:00:00+01:00  0.003100  0.006668 -0.003935 -0.000948  0.006477   \n",
       "2022-06-17 00:00:00+01:00 -0.000950  0.003100  0.006668 -0.003935 -0.000948   \n",
       "...                             ...       ...       ...       ...       ...   \n",
       "2022-09-12 00:00:00+01:00  0.001123 -0.003632 -0.003599  0.005465  0.008602   \n",
       "2022-09-13 00:00:00+01:00  0.006652  0.001123 -0.003632 -0.003599  0.005465   \n",
       "2022-09-14 00:00:00+01:00  0.006709  0.006652  0.001123 -0.003632 -0.003599   \n",
       "2022-09-15 00:00:00+01:00 -0.000743  0.006709  0.006652  0.001123 -0.003632   \n",
       "2022-09-16 00:00:00+01:00 -0.005721 -0.000743  0.006709  0.006652  0.001123   \n",
       "\n",
       "                           ...     lag16     lag17     lag18     lag19  \\\n",
       "Date                       ...                                           \n",
       "2022-06-13 00:00:00+01:00  ... -0.001729  0.003108  0.002115 -0.000140   \n",
       "2022-06-14 00:00:00+01:00  ... -0.003882 -0.001729  0.003108  0.002115   \n",
       "2022-06-15 00:00:00+01:00  ...  0.006859 -0.003882 -0.001729  0.003108   \n",
       "2022-06-16 00:00:00+01:00  ...  0.002856  0.006859 -0.003882 -0.001729   \n",
       "2022-06-17 00:00:00+01:00  ... -0.002452  0.002856  0.006859 -0.003882   \n",
       "...                        ...       ...       ...       ...       ...   \n",
       "2022-09-12 00:00:00+01:00  ... -0.005833  0.013430  0.000918  0.004632   \n",
       "2022-09-13 00:00:00+01:00  ... -0.000555 -0.005833  0.013430  0.000918   \n",
       "2022-09-14 00:00:00+01:00  ... -0.009780 -0.000555 -0.005833  0.013430   \n",
       "2022-09-15 00:00:00+01:00  ... -0.003452 -0.009780 -0.000555 -0.005833   \n",
       "2022-09-16 00:00:00+01:00  ...  0.002303 -0.003452 -0.009780 -0.000555   \n",
       "\n",
       "                              lag20  pred  strategy  trades  creturns  \\\n",
       "Date                                                                    \n",
       "2022-06-13 00:00:00+01:00 -0.008738  -1.0  0.000950     0.0  0.999051   \n",
       "2022-06-14 00:00:00+01:00 -0.000140  -1.0 -0.003933     0.0  1.002988   \n",
       "2022-06-15 00:00:00+01:00  0.002115  -1.0 -0.009954     0.0  1.013022   \n",
       "2022-06-16 00:00:00+01:00  0.003108   1.0 -0.016970     2.0  0.996116   \n",
       "2022-06-17 00:00:00+01:00 -0.001729  -1.0 -0.005414     2.0  1.001384   \n",
       "...                             ...   ...       ...     ...       ...   \n",
       "2022-09-12 00:00:00+01:00 -0.008459  -1.0  0.005721     0.0  0.983328   \n",
       "2022-09-13 00:00:00+01:00  0.004632  -1.0  0.001122     0.0  0.982225   \n",
       "2022-09-14 00:00:00+01:00  0.000918  -1.0 -0.007283     0.0  0.989404   \n",
       "2022-09-15 00:00:00+01:00  0.013430   1.0 -0.001222     2.0  0.988335   \n",
       "2022-09-16 00:00:00+01:00 -0.005833  -1.0 -0.010315     2.0  0.998442   \n",
       "\n",
       "                           cstrategy  \n",
       "Date                                  \n",
       "2022-06-13 00:00:00+01:00   1.000950  \n",
       "2022-06-14 00:00:00+01:00   0.997021  \n",
       "2022-06-15 00:00:00+01:00   0.987145  \n",
       "2022-06-16 00:00:00+01:00   0.970535  \n",
       "2022-06-17 00:00:00+01:00   0.965294  \n",
       "...                              ...  \n",
       "2022-09-12 00:00:00+01:00   0.907707  \n",
       "2022-09-13 00:00:00+01:00   0.908726  \n",
       "2022-09-14 00:00:00+01:00   0.902132  \n",
       "2022-09-15 00:00:00+01:00   0.901031  \n",
       "2022-09-16 00:00:00+01:00   0.891784  \n",
       "\n",
       "[70 rows x 27 columns]"
      ]
     },
     "execution_count": 22,
     "metadata": {},
     "output_type": "execute_result"
    }
   ],
   "source": [
    "ml.results"
   ]
  },
  {
   "cell_type": "code",
   "execution_count": 23,
   "metadata": {},
   "outputs": [
    {
     "data": {
      "text/plain": [
       "-1.0    39\n",
       " 1.0    31\n",
       "dtype: int64"
      ]
     },
     "execution_count": 23,
     "metadata": {},
     "output_type": "execute_result"
    }
   ],
   "source": [
    "hits = np.sign(ml.results.returns * ml.results.pred).value_counts()\n",
    "hits"
   ]
  },
  {
   "cell_type": "code",
   "execution_count": 24,
   "metadata": {},
   "outputs": [
    {
     "data": {
      "text/plain": [
       "0.44285714285714284"
      ]
     },
     "execution_count": 24,
     "metadata": {},
     "output_type": "execute_result"
    }
   ],
   "source": [
    "hit_ratio = hits[1.0] / sum(hits)\n",
    "hit_ratio"
   ]
  },
  {
   "cell_type": "code",
   "execution_count": null,
   "metadata": {},
   "outputs": [],
   "source": []
  }
 ],
 "metadata": {
  "kernelspec": {
   "display_name": "Python 3 (ipykernel)",
   "language": "python",
   "name": "python3"
  },
  "language_info": {
   "codemirror_mode": {
    "name": "ipython",
    "version": 3
   },
   "file_extension": ".py",
   "mimetype": "text/x-python",
   "name": "python",
   "nbconvert_exporter": "python",
   "pygments_lexer": "ipython3",
   "version": "3.9.12"
  }
 },
 "nbformat": 4,
 "nbformat_minor": 4
}
